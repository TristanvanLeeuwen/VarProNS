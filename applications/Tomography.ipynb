{
 "cells": [
  {
   "cell_type": "code",
   "execution_count": 1,
   "metadata": {},
   "outputs": [],
   "source": [
    "import sys\n",
    "sys.path.append(\"../\")\n",
    "import numpy as np\n",
    "from pyunlocbox import functions\n",
    "import matplotlib.pyplot as plt\n",
    "import varprons as vpns\n",
    "from regularizers import TV, pos\n",
    "from applications import Tomography"
   ]
  },
  {
   "cell_type": "markdown",
   "metadata": {},
   "source": [
    "## Example 1"
   ]
  },
  {
   "cell_type": "code",
   "execution_count": 2,
   "metadata": {},
   "outputs": [],
   "source": [
    "k = 50\n",
    "n = 50\n",
    "m = 50\n",
    "s = np.linspace(-1.5,1.5,m)\n",
    "theta = np.linspace(0,2*np.pi,k)\n",
    "\n",
    "rng = np.random.default_rng(seed=6)\n",
    "\n",
    "yt = np.zeros((n,n))\n",
    "yt[10:20,20:40] = 1\n",
    "yt[30:45,5:20] = .8\n",
    "yt[34:40,35:40] = 1.5\n",
    "yt = yt.flatten()\n",
    "xt = np.concatenate((.05*rng.normal(size=k),.05*rng.normal(size=k)))\n",
    "\n",
    "# create instance\n",
    "example1 = Tomography(s,theta,xt,yt,sigma=1)\n",
    "\n",
    "\n",
    "# objective\n",
    "f = lambda x,y : example1.misfit(x = x,y = y)\n",
    "r1 = functions.dummy()\n",
    "r2 = pos()\n",
    "\n",
    "# optimization parameters\n",
    "Lyy = np.linalg.norm(example1.getA(xt),ord=2)**2\n",
    "L = 1e6\n",
    "Lb = 1e6\n",
    "otol = (f(xt,yt) + r1.eval(xt) + r2.eval(yt))*1.1\n",
    "itol = 5e1\n",
    "maxit = 200"
   ]
  },
  {
   "cell_type": "code",
   "execution_count": null,
   "metadata": {},
   "outputs": [],
   "source": [
    "fig,ax=example1.plot_data()\n",
    "plt.savefig('./results/tomo1_sinogram.eps')"
   ]
  },
  {
   "cell_type": "code",
   "execution_count": null,
   "metadata": {},
   "outputs": [],
   "source": [
    "# initial points\n",
    "x0 = np.zeros(2*k)\n",
    "y0 = example1.inner_solve(x0,np.zeros(n*n),rtol=1e-3,r2=r2)"
   ]
  },
  {
   "cell_type": "code",
   "execution_count": null,
   "metadata": {},
   "outputs": [],
   "source": [
    "fig,ax = example1.plot_results([(xt,yt),(x0,y0)],['ground truth','initial reconstruction'])\n",
    "plt.savefig('./results/tomo1_initial_reconstruction.eps')"
   ]
  },
  {
   "cell_type": "code",
   "execution_count": null,
   "metadata": {},
   "outputs": [],
   "source": [
    "# algorithm1\n",
    "res1 = vpns.algorithm1(f,r1,r2,x0,y0,L=(L,L),tol=otol,maxit = maxit)\n",
    "x1 = res1['sol'][0]\n",
    "y1 = res1['sol'][1]\n",
    "\n",
    "# algorithm 2\n",
    "res2 = vpns.algorithm2(f,r1,r2,x0,y0,L=(Lb,Lyy),tol=(otol,itol),maxit=(maxit,10))\n",
    "x2 = res2['sol'][0]\n",
    "y2 = res2['sol'][1]\n",
    "\n",
    "# algorithm 3 adaptive\n",
    "rho = 10\n",
    "res3 = vpns.algorithm3(f,r1,r2,x0,y0,L=(Lb,Lyy),rho = rho, tol=otol,maxit=(maxit,1000))\n",
    "x3 = res3['sol'][0]\n",
    "y3 = res3['sol'][1]"
   ]
  },
  {
   "cell_type": "code",
   "execution_count": null,
   "metadata": {},
   "outputs": [],
   "source": [
    "# plot convergence\n",
    "fig, ax = vpns.plot_convergence([res1,res2,res3], ['joint','VP', 'VP adaptive'])\n",
    "ax[0].set_xlim([0,50])\n",
    "ax[1].set_xlim([0,400])\n",
    "plt.savefig('./results/tomo1_convergence.eps')"
   ]
  },
  {
   "cell_type": "code",
   "execution_count": null,
   "metadata": {},
   "outputs": [],
   "source": [
    "example1.plot_results([(xt,yt),(x1,y1),(y1,y2)],['ground truth','joint','VP'])\n",
    "plt.savefig('./results/tomo1_final_reconstruction.eps')"
   ]
  },
  {
   "cell_type": "markdown",
   "metadata": {},
   "source": [
    "## Example 2"
   ]
  },
  {
   "cell_type": "code",
   "execution_count": null,
   "metadata": {},
   "outputs": [],
   "source": [
    "k = 50\n",
    "n = 50\n",
    "m = 50\n",
    "s = np.linspace(-1.5,1.5,m)\n",
    "theta = np.linspace(0,2*np.pi,k)\n",
    "\n",
    "rng = np.random.default_rng(seed=6)\n",
    "\n",
    "yt = np.zeros((n,n))\n",
    "yt[10:20,20:40] = 1\n",
    "yt[30:45,5:20] = .8\n",
    "yt[34:40,35:40] = 1.5\n",
    "yt = yt.flatten()\n",
    "xt = np.concatenate((.05*rng.normal(size=k),.05*rng.normal(size=k)))\n",
    "\n",
    "# create instance\n",
    "example2 = Tomography(s,theta,xt,yt,sigma=1)\n",
    "\n",
    "\n",
    "# objective\n",
    "f = lambda x,y : example1.misfit(x = x,y = y)\n",
    "r1 = functions.dummy()\n",
    "r2 = TV(n_=n,lambda_ = 2e1, maxit=10000)\n",
    "\n",
    "# optimization parameters\n",
    "Lyy = np.linalg.norm(example2.getA(xt),ord=2)**2\n",
    "L = 1e6\n",
    "Lb = 1e6\n",
    "otol = (f(xt,yt) + r1.eval(xt) + r2.eval(yt))*1\n",
    "itol = 5e1\n",
    "maxit = 50"
   ]
  },
  {
   "cell_type": "code",
   "execution_count": null,
   "metadata": {},
   "outputs": [],
   "source": [
    "fig,ax=example1.plot_data()\n",
    "plt.savefig('./results/tomo2_sinogram.eps')"
   ]
  },
  {
   "cell_type": "code",
   "execution_count": null,
   "metadata": {},
   "outputs": [],
   "source": [
    "# initial points\n",
    "x0 = np.zeros(2*k)\n",
    "y0 = example2.inner_solve(x0,np.zeros(n*n),rtol=1e-3,r2=r2)"
   ]
  },
  {
   "cell_type": "code",
   "execution_count": null,
   "metadata": {},
   "outputs": [],
   "source": [
    "fig,ax = example2.plot_results([(xt,yt),(x0,y0)],['ground truth','initial reconstruction'])\n",
    "plt.savefig('./results/tomo2_initial_reconstruction.eps')"
   ]
  },
  {
   "cell_type": "code",
   "execution_count": null,
   "metadata": {},
   "outputs": [],
   "source": [
    "# algorithm1\n",
    "res1 = vpns.algorithm1(f,r1,r2,x0,y0,L=(L,L),tol=otol,maxit = 5*maxit)\n",
    "x1 = res1['sol'][0]\n",
    "y1 = res1['sol'][1]\n",
    "\n",
    "# algorithm 2\n",
    "res2 = vpns.algorithm2(f,r1,r2,x0,y0,L=(Lb,Lyy),tol=(otol,itol),maxit=(maxit,10))\n",
    "x2 = res2['sol'][0]\n",
    "y2 = res2['sol'][1]\n",
    "\n",
    "# algorithm 3 adaptive\n",
    "rho = 10\n",
    "res3 = vpns.algorithm3(f,r1,r2,x0,y0,L=(Lb,Lyy),rho = rho, tol=otol,maxit=(maxit,1000))\n",
    "x3 = res3['sol'][0]\n",
    "y3 = res3['sol'][1]"
   ]
  },
  {
   "cell_type": "code",
   "execution_count": null,
   "metadata": {},
   "outputs": [],
   "source": [
    "# plot convergence\n",
    "fig, ax = vpns.plot_convergence([res1,res2,res3], ['joint','VP','VP adaptive'])\n",
    "ax[0].set_xlim([0,50])\n",
    "ax[1].set_xlim([0,400])\n",
    "plt.savefig('./results/tomo2_convergence.eps')"
   ]
  },
  {
   "cell_type": "code",
   "execution_count": null,
   "metadata": {},
   "outputs": [],
   "source": [
    "example2.plot_results([(xt,yt),(x1,y1),(x2,y2)],['ground truth','joint','VP'])\n",
    "plt.savefig('./results/tomo2_final_reconstruction.eps')"
   ]
  },
  {
   "cell_type": "markdown",
   "metadata": {},
   "source": [
    "## Example 3"
   ]
  },
  {
   "cell_type": "code",
   "execution_count": null,
   "metadata": {},
   "outputs": [],
   "source": [
    "k = 50\n",
    "n = 100\n",
    "m = 50\n",
    "s = np.linspace(-1.5,1.5,m)\n",
    "theta = np.linspace(0,2*np.pi,k)\n",
    "\n",
    "rng = np.random.default_rng(seed=6)\n",
    "\n",
    "from phantominator import shepp_logan\n",
    "yt = shepp_logan(n).flatten()\n",
    "xt = np.concatenate((.1*rng.normal(size=k),.1*rng.normal(size=k)))\n",
    "\n",
    "# create instance\n",
    "example3 = Tomography(s,theta,xt,yt,sigma=1)\n",
    "\n",
    "# objective\n",
    "f = lambda x,y : example3.misfit(x = x,y = y)\n",
    "r1 = functions.dummy()\n",
    "r2 = TV(n_=n,lambda_ = 2e0, maxit=5000)\n",
    "\n",
    "# optimization parameters\n",
    "Lyy = np.linalg.norm(example3.getA(xt),ord=2)**2\n",
    "L = 1e6\n",
    "Lb = 1e6\n",
    "otol = (f(xt,yt) + r1.eval(xt) + r2.eval(yt))*1\n",
    "itol = 5e1\n",
    "maxit = 50"
   ]
  },
  {
   "cell_type": "code",
   "execution_count": null,
   "metadata": {},
   "outputs": [],
   "source": [
    "example3.plot_data()\n",
    "plt.savefig('./results/tomo3_sinogram.eps')"
   ]
  },
  {
   "cell_type": "code",
   "execution_count": null,
   "metadata": {},
   "outputs": [],
   "source": [
    "# initial points\n",
    "x0 = np.zeros(2*k)\n",
    "y0 = example3.inner_solve(x0,np.zeros(n*n),rtol=1e-3,r2=r2)"
   ]
  },
  {
   "cell_type": "code",
   "execution_count": null,
   "metadata": {},
   "outputs": [],
   "source": [
    "fig,ax = example3.plot_results([(xt,yt),(x0,y0)],['ground truth','initial reconstruction'])\n",
    "plt.savefig('./results/tomo3_initial_reconstruction.eps')"
   ]
  },
  {
   "cell_type": "code",
   "execution_count": null,
   "metadata": {},
   "outputs": [],
   "source": [
    "# algorithm1\n",
    "res1 = vpns.algorithm1(f,r1,r2,x0,y0,L=(L,L),tol=otol,maxit = 5*maxit)\n",
    "x1 = res1['sol'][0]\n",
    "y1 = res1['sol'][1]\n",
    "\n",
    "# algorithm 2\n",
    "res2 = vpns.algorithm2(f,r1,r2,x0,y0,L=(Lb,Lyy),tol=(otol,itol),maxit=(maxit,10))\n",
    "x2 = res2['sol'][0]\n",
    "y2 = res2['sol'][1]\n",
    "\n",
    "# algorithm 3 adaptive\n",
    "rho = 2\n",
    "res3 = vpns.algorithm3(f,r1,r2,x0,y0,L=(Lb,Lyy),rho = rho, tol=otol,maxit=(maxit,1000))\n",
    "x3 = res3['sol'][0]\n",
    "y3 = res3['sol'][1]"
   ]
  },
  {
   "cell_type": "code",
   "execution_count": null,
   "metadata": {},
   "outputs": [],
   "source": [
    "# plot convergence\n",
    "fig, ax = vpns.plot_convergence([res1,res2,res3], ['joint','VP','VP adaptive'])\n",
    "ax[0].set_xlim([0,50])\n",
    "ax[1].set_xlim([0,500])\n",
    "plt.savefig('./results/tomo3_convergence.eps')"
   ]
  },
  {
   "cell_type": "code",
   "execution_count": null,
   "metadata": {},
   "outputs": [],
   "source": [
    "example3.plot_results([(xt,yt),(x1,y1),(x2,y2)],['ground truth','joint','VP'])\n",
    "plt.savefig('./results/tomo3_final_reconstruction.eps')"
   ]
  },
  {
   "cell_type": "code",
   "execution_count": null,
   "metadata": {},
   "outputs": [],
   "source": []
  }
 ],
 "metadata": {
  "kernelspec": {
   "display_name": "Python 3",
   "language": "python",
   "name": "python3"
  },
  "language_info": {
   "codemirror_mode": {
    "name": "ipython",
    "version": 3
   },
   "file_extension": ".py",
   "mimetype": "text/x-python",
   "name": "python",
   "nbconvert_exporter": "python",
   "pygments_lexer": "ipython3",
   "version": "3.7.6"
  }
 },
 "nbformat": 4,
 "nbformat_minor": 4
}
